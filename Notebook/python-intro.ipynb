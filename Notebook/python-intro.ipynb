{
 "cells": [
  {
   "cell_type": "code",
   "execution_count": 188,
   "metadata": {
    "scrolled": true,
    "slideshow": {
     "slide_type": "-"
    }
   },
   "outputs": [
    {
     "name": "stdout",
     "output_type": "stream",
     "text": [
      "Hi there, Python 3\n"
     ]
    }
   ],
   "source": [
    "print(\"Hi there, Python 3\")     # How to print something?"
   ]
  },
  {
   "cell_type": "markdown",
   "metadata": {},
   "source": [
    "### semicolon\n",
    "\n",
    "`Where are those semicolons?`\n",
    "\n"
   ]
  },
  {
   "cell_type": "code",
   "execution_count": 189,
   "metadata": {
    "scrolled": true
   },
   "outputs": [
    {
     "name": "stdout",
     "output_type": "stream",
     "text": [
      "Hi \n",
      "there, \n",
      "Pyhton 3\n"
     ]
    }
   ],
   "source": [
    "print('Hi '); print('there, '); print('Pyhton 3')    # Interpreters vs Compilers\n",
    "                                                     # Youtube streaming vs Downloading analogy"
   ]
  },
  {
   "cell_type": "code",
   "execution_count": 190,
   "metadata": {
    "scrolled": true
   },
   "outputs": [
    {
     "name": "stdout",
     "output_type": "stream",
     "text": [
      "a = 16\n",
      "b = 2\n",
      "<class 'str'>\n",
      "16020\n"
     ]
    }
   ],
   "source": [
    "a = input('a = ')                             # CLI\n",
    "b = input('b = ')\n",
    "\n",
    "a += '0'                                      # string concatenation\n",
    "b += '0'                                      # operator overloading\n",
    "\n",
    "print(type(a))                                # string\n",
    "\n",
    "print(a+b)\n",
    "                            "
   ]
  },
  {
   "cell_type": "code",
   "execution_count": 191,
   "metadata": {},
   "outputs": [
    {
     "name": "stdout",
     "output_type": "stream",
     "text": [
      "a = 10\n",
      "b = 5\n",
      "<class 'str'>\n",
      "10050\n",
      "<class 'int'>\n",
      "105 55 160\n"
     ]
    }
   ],
   "source": [
    "a = input('a = ')                             # CLI\n",
    "b = input('b = ')\n",
    "\n",
    "a += '0'                                      # string concatenation\n",
    "b += '0'\n",
    "\n",
    "print(type(a))                                # string\n",
    "\n",
    "print(a+b)\n",
    "\n",
    "a = int(a)                                    # type-casting\n",
    "b = int(b)\n",
    "\n",
    "print(type(b))                                # integer\n",
    "\n",
    "a += 5\n",
    "b += 5\n",
    "\n",
    "print(a,b,a+b)\n"
   ]
  },
  {
   "cell_type": "code",
   "execution_count": 192,
   "metadata": {},
   "outputs": [
    {
     "name": "stdout",
     "output_type": "stream",
     "text": [
      "a = 7\n",
      "b = 17\n",
      "<class 'str'>\n",
      "70170\n",
      "<class 'int'>\n",
      "75 175 250\n",
      "Just gonna print a 0\n",
      "0\n"
     ]
    }
   ],
   "source": [
    "a = input('a = ')                             # CLI\n",
    "b = input('b = ')\n",
    "\n",
    "a += '0'                                      # string concatenation\n",
    "b += '0'\n",
    "\n",
    "print(type(a))                                # string\n",
    "\n",
    "print(a+b)\n",
    "\n",
    "a = int(a)                                    # type-casting\n",
    "b = int(b)\n",
    "\n",
    "print(type(b))                                # integer\n",
    "\n",
    "a += 5\n",
    "b += 5\n",
    "\n",
    "print(a,b,a+b)\n",
    "\n",
    "if a < b:\n",
    "    print('Just gonna print a 0')\n",
    "elif a == b:\n",
    "    print('Just gonna print a 1')\n",
    "else:\n",
    "    print(\"Can't predict :( \")\n",
    "\n",
    "print(a//b)                                   "
   ]
  },
  {
   "cell_type": "markdown",
   "metadata": {},
   "source": [
    "### a little bit of modular arithmetic\n",
    "\n",
    "  * How many multiples of $3$ are there in a list?\n",
    "\n",
    "  * Find all such $y$ such that, $y = 57*x + 13$     where, $0 <= y <= 1000$ and $x$ belongs to *$N$*"
   ]
  },
  {
   "cell_type": "code",
   "execution_count": 195,
   "metadata": {},
   "outputs": [
    {
     "name": "stdout",
     "output_type": "stream",
     "text": [
      "<class 'list'>\n",
      "[1, 2, 3, 4, 5, 6, 7, 8, 9, 10]\n",
      "3 6 9 "
     ]
    }
   ],
   "source": [
    "# a_list = [1,2,3,4,5,6,7,8,9,10]          # list\n",
    "\n",
    "a_list = list(range(1,11))               # why 11?\n",
    "\n",
    "print(type(a_list))\n",
    "\n",
    "print(a_list)\n",
    "\n",
    "for a_i in a_list:\n",
    "     if a_i % 3 == 0:\n",
    "        print(a_i,end = ' ')"
   ]
  },
  {
   "cell_type": "code",
   "execution_count": 196,
   "metadata": {},
   "outputs": [
    {
     "name": "stdout",
     "output_type": "stream",
     "text": [
      "<class 'range'>\n",
      "13 70 127 184 241 298 355 412 469 526 583 640 697 754 811 868 925 982 "
     ]
    }
   ],
   "source": [
    "y_rng = range(1,1001)                    # why 1001?\n",
    "\n",
    "print(type(y_rng))\n",
    "\n",
    "for y in y_rng:\n",
    "    if y % 57 == 13:\n",
    "        print(y,end=' ')"
   ]
  },
  {
   "cell_type": "code",
   "execution_count": 30,
   "metadata": {
    "scrolled": true
   },
   "outputs": [
    {
     "name": "stdout",
     "output_type": "stream",
     "text": [
      "Requirement already satisfied: future in c:\\anaconda3\\lib\\site-packages\n"
     ]
    }
   ],
   "source": [
    "! pip install future             # Using pip"
   ]
  },
  {
   "cell_type": "markdown",
   "metadata": {},
   "source": [
    "### packages, subpackages and modules\n",
    "\n",
    "> Requirement already satisfied: future in 'dir' ....\n",
    "\n",
    "* Let's see, how the directory 'dir' is organized\n",
    " * `__init__.py`, packages, subpackages, modules, namespace, `__path__`"
   ]
  },
  {
   "cell_type": "code",
   "execution_count": 197,
   "metadata": {},
   "outputs": [
    {
     "name": "stdout",
     "output_type": "stream",
     "text": [
      "<module 'future.backports.datetime' from 'C:\\\\Anaconda3\\\\lib\\\\site-packages\\\\future\\\\backports\\\\datetime.py'>\n",
      "['MAXYEAR', 'MINYEAR', 'PY2', '_EPOCH', '__builtins__', '__cached__', '__doc__', '__file__', '__loader__', '__name__', '__package__', '__spec__', 'absolute_import', 'bytes', 'date', 'datetime', 'datetime_CAPI', 'division', 'int', 'map', 'native_str', 'object', 'print_function', 'round', 'str', 'time', 'timedelta', 'timezone', 'tzinfo', 'unicode_literals'] \n",
      "\n",
      "2017-11-04 \n",
      "\n",
      "2017-11-11\n"
     ]
    }
   ],
   "source": [
    "from future.backports import datetime as dt\n",
    " \n",
    "# year = input('year : ')\n",
    "\n",
    "print(dt)\n",
    "\n",
    "print(dir(dt),'\\n')                 #  dir() method tries to return a list of valid attributes of the object\n",
    "\n",
    "today = dt.date.today()\n",
    "\n",
    "print(today,'\\n')\n",
    "\n",
    "another_day = dt.date(2017,11,11)\n",
    "\n",
    "print(another_day)\n",
    "\n"
   ]
  },
  {
   "cell_type": "code",
   "execution_count": null,
   "metadata": {
    "collapsed": true
   },
   "outputs": [],
   "source": []
  },
  {
   "cell_type": "markdown",
   "metadata": {},
   "source": [
    "### python 2/3 compatibility and future\n",
    "\n",
    "*  run python 2 code from python 3 using past"
   ]
  },
  {
   "cell_type": "code",
   "execution_count": 198,
   "metadata": {},
   "outputs": [
    {
     "name": "stdout",
     "output_type": "stream",
     "text": [
      "length of a =  11 \n",
      "\n",
      "[1, 2, 3, 4, 4, 5, 6, 7, 8, 9, 20]\n",
      "\n",
      "\n",
      "4 1 2 3 4 5 6 7 8 9 20 \n",
      "\n",
      "1 2 3 4 4 5 6 7 8 9 20 "
     ]
    }
   ],
   "source": [
    "from past.builtins import xrange                # running python 2 in python 3\n",
    "\n",
    "a = list(xrange(11))\n",
    "\n",
    "a[0] += 2\n",
    "a[0] **= 2\n",
    "\n",
    "print('length of a = ',len(a),'\\n')\n",
    "\n",
    "a[len(a)-1] *= 2 \n",
    "\n",
    "print(sorted(a))\n",
    "\n",
    "print('\\n')\n",
    "\n",
    "for x in xrange(11):\n",
    "    print(a[x],end = ' ')\n",
    "    \n",
    "print('\\n')\n",
    "    \n",
    "a.sort()\n",
    "\n",
    "for x in xrange(11):\n",
    "    print(a[x],end = ' ')"
   ]
  },
  {
   "cell_type": "code",
   "execution_count": 171,
   "metadata": {},
   "outputs": [],
   "source": [
    "from __future__ import division            # running python 3 in pyhton 2\n",
    "\n"
   ]
  },
  {
   "cell_type": "markdown",
   "metadata": {},
   "source": [
    "### our own functions and default parameters\n",
    "\n",
    "* `def`, `return`"
   ]
  },
  {
   "cell_type": "code",
   "execution_count": 199,
   "metadata": {
    "collapsed": true
   },
   "outputs": [],
   "source": [
    "def my_fun():\n",
    "    \n",
    "    print(\"Hi there, Python 3\")"
   ]
  },
  {
   "cell_type": "code",
   "execution_count": 200,
   "metadata": {
    "scrolled": true
   },
   "outputs": [
    {
     "name": "stdout",
     "output_type": "stream",
     "text": [
      "Hi there, Python 3\n"
     ]
    }
   ],
   "source": [
    "my_fun()"
   ]
  },
  {
   "cell_type": "code",
   "execution_count": 124,
   "metadata": {
    "collapsed": true
   },
   "outputs": [],
   "source": [
    "def your_fun(a,b,c=5):\n",
    "    \n",
    "    print(a,b,c)\n",
    "    return a * b + c\n"
   ]
  },
  {
   "cell_type": "code",
   "execution_count": 201,
   "metadata": {
    "scrolled": true
   },
   "outputs": [
    {
     "name": "stdout",
     "output_type": "stream",
     "text": [
      "5 4 3\n",
      "23\n",
      "1 2 5\n",
      "7\n"
     ]
    }
   ],
   "source": [
    "k1 = your_fun(5,4,3)\n",
    "print(k1)\n",
    "k2 = your_fun(1,2)\n",
    "print(k2)"
   ]
  },
  {
   "cell_type": "code",
   "execution_count": 146,
   "metadata": {},
   "outputs": [],
   "source": [
    "def add_str(a, c, i_am_string=''):          # why i_am_string is the last argument?\n",
    "    i_am_string += a\n",
    "    i_am_string += c\n",
    "    return i_am_string"
   ]
  },
  {
   "cell_type": "code",
   "execution_count": 148,
   "metadata": {
    "scrolled": true
   },
   "outputs": [
    {
     "name": "stdout",
     "output_type": "stream",
     "text": [
      "ab\n",
      "cd\n"
     ]
    }
   ],
   "source": [
    "st = add_str('a','b')\n",
    "print(st)\n",
    "st = add_str('c','d')\n",
    "print(st)"
   ]
  },
  {
   "cell_type": "markdown",
   "metadata": {},
   "source": [
    "### let's develop our lil_geometry module\n",
    "\n",
    "* `go to a new fresh directory`\n",
    "* `create a folder 'pack_lev1'`\n",
    "* `inside, 'pack_lev1' create a python script named 'lil_geometry.py'`"
   ]
  },
  {
   "cell_type": "markdown",
   "metadata": {},
   "source": [
    "<img src=\"nm1.png\" alt=\"CL\" style=\"width: 500px;\"/>"
   ]
  },
  {
   "cell_type": "code",
   "execution_count": null,
   "metadata": {
    "collapsed": true
   },
   "outputs": [],
   "source": []
  },
  {
   "cell_type": "code",
   "execution_count": 202,
   "metadata": {},
   "outputs": [
    {
     "name": "stdout",
     "output_type": "stream",
     "text": [
      "__main__\n"
     ]
    }
   ],
   "source": [
    "# lil_geometry.py\n",
    "import math as m\n",
    "\n",
    "def area_of_circle(rad):\n",
    "    return 2*m.pi*rad\n",
    "\n",
    "\n",
    "print(__name__)"
   ]
  },
  {
   "cell_type": "code",
   "execution_count": 183,
   "metadata": {},
   "outputs": [
    {
     "name": "stdout",
     "output_type": "stream",
     "text": [
      "__main__\n",
      "Enter radius : 12\n",
      "radius of cirlce is 75.39822368615503\n"
     ]
    }
   ],
   "source": [
    "# lil_geometry.py\n",
    "import math as m\n",
    "\n",
    "def area_of_circle(rad):\n",
    "    return 2*m.pi*rad\n",
    "\n",
    "\n",
    "print(__name__)\n",
    "\n",
    "if ( __name__ == '__main__' ):\n",
    "    rad = input('Enter radius : ')\n",
    "    print(\"radius of cirlce is {}\".format(area_of_circle(int(rad))))"
   ]
  },
  {
   "cell_type": "markdown",
   "metadata": {},
   "source": [
    "### module_test\n",
    "* `go to root`\n",
    "* `create a script named 'module_test'`"
   ]
  },
  {
   "cell_type": "code",
   "execution_count": null,
   "metadata": {
    "collapsed": true
   },
   "outputs": [],
   "source": [
    "# testing module lil_geometry.py\n",
    "\n",
    "from pack_lev1 import lil_geometry as lg"
   ]
  },
  {
   "cell_type": "markdown",
   "metadata": {},
   "source": [
    "<img src=\"nm2.png\" alt=\"CL\" style=\"width: 500px;\"/>"
   ]
  },
  {
   "cell_type": "markdown",
   "metadata": {},
   "source": [
    "### running module_test\n",
    "\n",
    "* `open cmd in that folder and type 'python module_test.py'`"
   ]
  },
  {
   "cell_type": "markdown",
   "metadata": {},
   "source": [
    "<img src=\"nm3.png\" alt=\"CL\" style=\"width: 500px;\"/>"
   ]
  },
  {
   "cell_type": "markdown",
   "metadata": {},
   "source": [
    "<img src=\"nm4.png\" alt=\"CL\" style=\"width: 500px;\"/>"
   ]
  },
  {
   "cell_type": "markdown",
   "metadata": {},
   "source": [
    "<img src=\"nm5.png\" alt=\"CL\" style=\"width: 500px;\"/>"
   ]
  },
  {
   "cell_type": "markdown",
   "metadata": {},
   "source": [
    "<img src=\"nm6.png\" alt=\"CL\" style=\"width: 500px;\"/>"
   ]
  },
  {
   "cell_type": "markdown",
   "metadata": {},
   "source": [
    "<img src=\"nm7.png\" alt=\"CL\" style=\"width: 500px;\"/>"
   ]
  },
  {
   "cell_type": "code",
   "execution_count": null,
   "metadata": {
    "collapsed": true
   },
   "outputs": [],
   "source": [
    "# testing module lil_geometry.py\n",
    "\n",
    "from pack_lev1 import lil_geometry as lg\n",
    "\n",
    "print('module_test __name__ : {}'.format(__name__))\n",
    "\n",
    "print(lg.area_of_circle(5))  # using functions from imported module"
   ]
  },
  {
   "cell_type": "markdown",
   "metadata": {},
   "source": [
    "### github, git\n",
    "* a break for me  `    `  :P\n",
    "* go to `https://github.com` and open an account\n",
    "* verify email address"
   ]
  },
  {
   "cell_type": "markdown",
   "metadata": {},
   "source": [
    "### pip, easy_install and setup.py\n",
    "\n",
    "\n",
    "* `https://github.com/pyjokes/pyjokes`\n",
    "* clone this repo\n",
    "* python setup.py install command"
   ]
  },
  {
   "cell_type": "code",
   "execution_count": 150,
   "metadata": {},
   "outputs": [],
   "source": [
    "! cd"
   ]
  },
  {
   "cell_type": "code",
   "execution_count": 152,
   "metadata": {},
   "outputs": [
    {
     "data": {
      "text/plain": [
       "'A:\\\\GitUps\\\\FabLabIntroPythonWorkshop\\\\fab-lab-python-intro-workshop\\\\Notebook'"
      ]
     },
     "execution_count": 152,
     "metadata": {},
     "output_type": "execute_result"
    }
   ],
   "source": [
    "% pwd"
   ]
  },
  {
   "cell_type": "code",
   "execution_count": null,
   "metadata": {
    "collapsed": true
   },
   "outputs": [],
   "source": []
  },
  {
   "cell_type": "markdown",
   "metadata": {},
   "source": [
    "- Go to the folder where you cloned pyjokes\n",
    "- Shift + Right Mouse button -> Open CMD here"
   ]
  },
  {
   "cell_type": "markdown",
   "metadata": {},
   "source": [
    "\n",
    "\n",
    "<img src=\"setup_py1.png\" alt=\"Pyjokes in action 1\" style=\"width: 300px;\"/>\n"
   ]
  },
  {
   "cell_type": "markdown",
   "metadata": {},
   "source": [
    "### In cmd, type\n",
    "- `python`\n",
    "- `import pyjokes as pj`\n",
    "- `a_joke = pj.get_joke()`\n",
    "- `print(a_joke)` "
   ]
  },
  {
   "cell_type": "markdown",
   "metadata": {},
   "source": [
    "\n",
    "\n",
    "<img src=\"setup_py2.png\" alt=\"Pyjokes in action 2\" style=\"width: 300px;\"/>\n"
   ]
  },
  {
   "cell_type": "markdown",
   "metadata": {},
   "source": [
    "### forget about pycharm for a moment\n",
    "- `Go to a new fresh directory`\n",
    "- `Create a new python script 'finally.py'`\n",
    "- `Write some creative piece of code using just an editor`\n",
    "- `Open cmd in that folder`\n",
    "- `python finally.py`"
   ]
  },
  {
   "cell_type": "markdown",
   "metadata": {},
   "source": [
    "### command line arguments\n",
    "* sys\n",
    "* argv\n",
    "* argv[0] is name of the script"
   ]
  },
  {
   "cell_type": "markdown",
   "metadata": {},
   "source": [
    "\n",
    "\n",
    "<img src=\"cl1.png\" alt=\"CL\" style=\"width: 500px;\"/>\n"
   ]
  },
  {
   "cell_type": "markdown",
   "metadata": {},
   "source": [
    "\n",
    "\n",
    "<img src=\"cl2.png\" alt=\"CL\" style=\"width: 500px;\"/>\n"
   ]
  },
  {
   "cell_type": "code",
   "execution_count": null,
   "metadata": {
    "collapsed": true
   },
   "outputs": [],
   "source": [
    "import sys as s_\n",
    "\n",
    "print(s_.argv)\n",
    "\n",
    "if len(s_.argv) == 1:\n",
    "    print('The name of the script is {} and there are no extra args'.format(argv[0]))\n",
    "elif len(s_.argv) == 3:\n",
    "    print('First name : {} Last name : {}'.format(s_.argv[1],s_.argv[2]))\n",
    "    "
   ]
  },
  {
   "cell_type": "markdown",
   "metadata": {},
   "source": [
    "\n",
    "\n",
    "<img src=\"cl4.png\" alt=\"CL\" style=\"width: 500px;\"/>\n"
   ]
  },
  {
   "cell_type": "markdown",
   "metadata": {},
   "source": [
    "\n",
    "\n",
    "<img src=\"cl5.png\" alt=\"CL\" style=\"width: 500px;\"/>\n"
   ]
  },
  {
   "cell_type": "markdown",
   "metadata": {},
   "source": [
    "\n",
    "\n",
    "<img src=\"cl6.png\" alt=\"CL\" style=\"width: 500px;\"/>\n"
   ]
  },
  {
   "cell_type": "markdown",
   "metadata": {},
   "source": [
    "\n",
    "\n",
    "<img src=\"cl3.png\" alt=\"CL\" style=\"width: 500px;\"/>\n"
   ]
  },
  {
   "cell_type": "code",
   "execution_count": 165,
   "metadata": {
    "scrolled": true
   },
   "outputs": [
    {
     "name": "stdout",
     "output_type": "stream",
     "text": [
      "['C:\\\\Anaconda3\\\\lib\\\\site-packages\\\\ipykernel_launcher.py', '-f', 'C:\\\\Users\\\\zabir\\\\AppData\\\\Roaming\\\\jupyter\\\\runtime\\\\kernel-ffc5e574-b2b9-480f-b1ea-0b1b87f3d267.json']\n",
      "First name : C:\\Users\\zabir\\AppData\\Roaming\\jupyter\\runtime\\kernel-ffc5e574-b2b9-480f-b1ea-0b1b87f3d267.json Last name : -f\n"
     ]
    }
   ],
   "source": [
    "import sys as s_\n",
    "\n",
    "print(s_.argv)\n",
    "\n",
    "if len(s_.argv) == 1:\n",
    "    print('The name of the script is {} and there are no extra args'.format(argv[0]))\n",
    "elif len(s_.argv) == 3:\n",
    "    print('First name : {1} Last name : {0}'.format(s_.argv[1],s_.argv[2]))\n",
    "    "
   ]
  },
  {
   "cell_type": "markdown",
   "metadata": {},
   "source": [
    "\n",
    "\n",
    "<img src=\"cl7.png\" alt=\"CL\" style=\"width: 500px;\"/>\n"
   ]
  },
  {
   "cell_type": "markdown",
   "metadata": {},
   "source": [
    "\n",
    "\n",
    "<img src=\"cl8.png\" alt=\"CL\" style=\"width: 500px;\"/>\n"
   ]
  }
 ],
 "metadata": {
  "kernelspec": {
   "display_name": "Python 3",
   "language": "python",
   "name": "python3"
  },
  "language_info": {
   "codemirror_mode": {
    "name": "ipython",
    "version": 3
   },
   "file_extension": ".py",
   "mimetype": "text/x-python",
   "name": "python",
   "nbconvert_exporter": "python",
   "pygments_lexer": "ipython3",
   "version": "3.6.1"
  }
 },
 "nbformat": 4,
 "nbformat_minor": 2
}
